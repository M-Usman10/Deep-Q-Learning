{
 "cells": [
  {
   "cell_type": "code",
   "execution_count": 1,
   "metadata": {
    "collapsed": false
   },
   "outputs": [
    {
     "name": "stdout",
     "output_type": "stream",
     "text": [
      "1\nError: tf_logs\\events.out.tfevents.1548261128.DESKTOP-1QLQT1T - Access is denied.\n"
     ]
    }
   ],
   "source": [
    "print(1)\n",
    "import os\n",
    "import sys\n",
    "import shutil\n",
    "# Get directory name\n",
    "mydir= 'tf_logs'\n",
    "\n",
    "## Try to remove tree; if failed show an error using try...except on screen\n",
    "try:\n",
    "    shutil.rmtree(mydir)\n",
    "except OSError as e:\n",
    "    print (\"Error: %s - %s.\" % (e.filename, e.strerror))"
   ]
  },
  {
   "cell_type": "code",
   "execution_count": 1,
   "metadata": {
    "collapsed": true
   },
   "outputs": [
    {
     "name": "stderr",
     "output_type": "stream",
     "text": [
      "Using TensorFlow backend.\n"
     ]
    }
   ],
   "source": [
    "import numpy as np\n",
    "import gym\n",
    "import matplotlib.pyplot as plt\n",
    "%matplotlib inline\n",
    "from multiprocessing import Process,Queue,Value\n",
    "from utils.Preprocessor import Frame_Processor\n",
    "from utils.generator import generate\n",
    "import keras"
   ]
  },
  {
   "cell_type": "code",
   "execution_count": 2,
   "metadata": {
    "collapsed": true
   },
   "outputs": [],
   "source": [
    "crop_coords={\"top_left_x\":4,\"top_left_y\":8,\"bottom_right_x\":-12,\"bottom_right_y\":-12}\n",
    "FP=Frame_Processor(crop=True,convert_to_grayscale=True,normalize=True,coords=crop_coords,resize=True,resize_y=110,resize_x=84)\n",
    "replay_buffer=Queue(maxsize=1000)\n",
    "saved_new=Value('i',0)"
   ]
  },
  {
   "cell_type": "code",
   "execution_count": 3,
   "metadata": {
    "collapsed": false
   },
   "outputs": [],
   "source": [
    "config={'env_name':'SpaceInvaders-v0','nstack':4,'gain':5,'decay':1e-6,\n",
    "        'max_episode_steps':10000,\n",
    "        'replay_buffer':replay_buffer,'Frame_Processor':FP,'gamma':0.9,'saved_new':saved_new}"
   ]
  },
  {
   "cell_type": "code",
   "execution_count": 4,
   "metadata": {
    "collapsed": false
   },
   "outputs": [],
   "source": [
    "P=Process(target=generate,args=(config,))\n",
    "P.start()"
   ]
  },
  {
   "cell_type": "code",
   "execution_count": 5,
   "metadata": {},
   "outputs": [
    {
     "data": {
      "text/plain": [
       "(1, 110, 84, 4)"
      ]
     },
     "execution_count": 5,
     "metadata": {},
     "output_type": "execute_result"
    }
   ],
   "source": [
    "replay_buffer.get()[0].shape"
   ]
  },
  {
   "cell_type": "code",
   "execution_count": 6,
   "metadata": {},
   "outputs": [
    {
     "name": "stdout",
     "output_type": "stream",
     "text": [
      "__________________________________________________________________________________________________\nLayer (type)                    Output Shape         Param #     Connected to                     \n==================================================================================================\ninput_1 (InputLayer)            (None, 110, 84, 4)   0                                            \n__________________________________________________________________________________________________\nconv2d_1 (Conv2D)               (None, 26, 20, 32)   8224        input_1[0][0]                    \n__________________________________________________________________________________________________\nactivation_1 (Activation)       (None, 26, 20, 32)   0           conv2d_1[0][0]                   \n__________________________________________________________________________________________________\nconv2d_2 (Conv2D)               (None, 12, 9, 64)    32832       activation_1[0][0]               \n__________________________________________________________________________________________________\nactivation_2 (Activation)       (None, 12, 9, 64)    0           conv2d_2[0][0]                   \n__________________________________________________________________________________________________\nconv2d_3 (Conv2D)               (None, 5, 4, 64)     36928       activation_2[0][0]               \n__________________________________________________________________________________________________\nactivation_3 (Activation)       (None, 5, 4, 64)     0           conv2d_3[0][0]                   \n__________________________________________________________________________________________________\nflatten_1 (Flatten)             (None, 1280)         0           activation_3[0][0]               \n__________________________________________________________________________________________________\ndense_1 (Dense)                 (None, 512)          655872      flatten_1[0][0]                  \n__________________________________________________________________________________________________\nactivation_4 (Activation)       (None, 512)          0           dense_1[0][0]                    \n__________________________________________________________________________________________________\ndense_2 (Dense)                 (None, 6)            3078        activation_4[0][0]               \n__________________________________________________________________________________________________\ninput_2 (InputLayer)            (None, 6)            0                                            \n__________________________________________________________________________________________________\nlambda_1 (Lambda)               (None, 1)            0           dense_2[0][0]                    \n                                                                 input_2[0][0]                    \n==================================================================================================\nTotal params: 736,934\nTrainable params: 736,934\nNon-trainable params: 0\n__________________________________________________________________________________________________\n"
     ]
    },
    {
     "name": "stderr",
     "output_type": "stream",
     "text": [
      "C:\\Users\\MuhammadUsman\\PycharmProjects\\Deep-Q-Learning\\utils\\PolicyNetwork.py:46: UserWarning: Update your `Model` call to the Keras 2 API: `Model(inputs=[<tf.Tenso..., outputs=Tensor(\"la...)`\n  self.Model = keras_model(inputs=[state_inputs,action_one_hot_inputs], output=pred_q_a)\n"
     ]
    }
   ],
   "source": [
    "from keras.optimizers import Adam\n",
    "from utils.PolicyNetwork import DQN\n",
    "input_shape=(110,84,4)#env.obs_shape\n",
    "num_outputs=6\n",
    "optimizer=Adam(lr=0.0001)\n",
    "design_config_file=r\"utils\\qnetwork.csv\"\n",
    "model=DQN(input_shape=input_shape,num_outputs=num_outputs,\n",
    "        optimizer=optimizer,arch_config_file=design_config_file)\n",
    "model.construct_model(training=True)"
   ]
  },
  {
   "cell_type": "code",
   "execution_count": 7,
   "metadata": {},
   "outputs": [],
   "source": [
    "def sample(replay_buffer,steps):\n",
    "    Data=[]\n",
    "    y=[]\n",
    "    a=[]\n",
    "    for i in range(steps):\n",
    "        point=replay_buffer.get()\n",
    "        Data.append(point[0][0])\n",
    "        y.append(point[1])\n",
    "        a.append(point[2])\n",
    "    return np.array(Data),np.array(y),np.array(a)"
   ]
  },
  {
   "cell_type": "code",
   "execution_count": 8,
   "metadata": {},
   "outputs": [
    {
     "name": "stdout",
     "output_type": "stream",
     "text": [
      "0\n"
     ]
    },
    {
     "name": "stdout",
     "output_type": "stream",
     "text": [
      "1\n"
     ]
    },
    {
     "name": "stdout",
     "output_type": "stream",
     "text": [
      "2\n"
     ]
    },
    {
     "name": "stdout",
     "output_type": "stream",
     "text": [
      "3\n"
     ]
    },
    {
     "name": "stdout",
     "output_type": "stream",
     "text": [
      "4\n"
     ]
    },
    {
     "name": "stdout",
     "output_type": "stream",
     "text": [
      "5\n"
     ]
    },
    {
     "name": "stdout",
     "output_type": "stream",
     "text": [
      "6\n"
     ]
    },
    {
     "name": "stdout",
     "output_type": "stream",
     "text": [
      "7\n"
     ]
    },
    {
     "name": "stdout",
     "output_type": "stream",
     "text": [
      "8\n"
     ]
    },
    {
     "name": "stdout",
     "output_type": "stream",
     "text": [
      "9\n"
     ]
    },
    {
     "name": "stdout",
     "output_type": "stream",
     "text": [
      "10\n"
     ]
    }
   ],
   "source": [
    "for i in range(100):\n",
    "    print (i)\n",
    "    X,y,a=sample(replay_buffer,1000)\n",
    "    model.Model.fit([X,keras.utils.to_categorical(a,num_classes=6)],y,epochs=10,batch_size=5,\n",
    "                    verbose=0)\n",
    "    model.Model.save_weights('weights.h5')\n",
    "    with saved_new.get_lock():\n",
    "        saved_new.value = 1"
   ]
  },
  {
   "cell_type": "code",
   "execution_count": 10,
   "metadata": {},
   "outputs": [],
   "source": [
    "with saved_new.get_lock():\n",
    "    saved_new.value=1"
   ]
  },
  {
   "cell_type": "code",
   "execution_count": 11,
   "metadata": {},
   "outputs": [
    {
     "data": {
      "text/plain": [
       "(array([[[[0.        , 0.        , 0.        , 0.        ],\n          [0.        , 0.        , 0.        , 0.        ],\n          [0.        , 0.        , 0.        , 0.        ],\n          ...,\n          [0.        , 0.        , 0.        , 0.        ],\n          [0.        , 0.        , 0.        , 0.        ],\n          [0.        , 0.        , 0.        , 0.        ]],\n \n         [[0.00151918, 0.00151918, 0.00151918, 0.00151918],\n          [0.00151918, 0.00151918, 0.00151918, 0.00151918],\n          [0.00151918, 0.00151918, 0.00151918, 0.00151918],\n          ...,\n          [0.00147554, 0.00147554, 0.00147554, 0.00147554],\n          [0.        , 0.        , 0.        , 0.        ],\n          [0.        , 0.        , 0.        , 0.        ]],\n \n         [[0.00136726, 0.00136726, 0.00136726, 0.00136726],\n          [0.00136726, 0.00136726, 0.00136726, 0.00136726],\n          [0.00029298, 0.00029298, 0.00029298, 0.00029298],\n          ...,\n          [0.00132799, 0.00132799, 0.00132799, 0.00132799],\n          [0.        , 0.        , 0.        , 0.        ],\n          [0.        , 0.        , 0.        , 0.        ]],\n \n         ...,\n \n         [[0.        , 0.        , 0.        , 0.        ],\n          [0.        , 0.        , 0.        , 0.        ],\n          [0.        , 0.        , 0.        , 0.        ],\n          ...,\n          [0.        , 0.        , 0.        , 0.        ],\n          [0.        , 0.        , 0.        , 0.        ],\n          [0.        , 0.        , 0.        , 0.        ]],\n \n         [[0.        , 0.        , 0.        , 0.        ],\n          [0.        , 0.        , 0.        , 0.        ],\n          [0.        , 0.        , 0.        , 0.        ],\n          ...,\n          [0.00115   , 0.00115   , 0.00115   , 0.00115   ],\n          [0.00115   , 0.00115   , 0.00115   , 0.00115   ],\n          [0.00115   , 0.00115   , 0.00115   , 0.00115   ]],\n \n         [[0.000805  , 0.000805  , 0.000805  , 0.000805  ],\n          [0.000805  , 0.000805  , 0.000805  , 0.000805  ],\n          [0.00116643, 0.00116643, 0.00116643, 0.00116643],\n          ...,\n          [0.001265  , 0.001265  , 0.001265  , 0.001265  ],\n          [0.001265  , 0.001265  , 0.001265  , 0.001265  ],\n          [0.001265  , 0.001265  , 0.001265  , 0.001265  ]]]]),\n 0.00040048178052529696,\n 5,\n False)"
      ]
     },
     "execution_count": 11,
     "metadata": {},
     "output_type": "execute_result"
    }
   ],
   "source": [
    "replay_buffer.get()"
   ]
  }
 ],
 "metadata": {
  "kernelspec": {
   "display_name": "Python 2",
   "language": "python",
   "name": "python2"
  },
  "language_info": {
   "codemirror_mode": {
    "name": "ipython",
    "version": 2
   },
   "file_extension": ".py",
   "mimetype": "text/x-python",
   "name": "python",
   "nbconvert_exporter": "python",
   "pygments_lexer": "ipython2",
   "version": "2.7.6"
  }
 },
 "nbformat": 4,
 "nbformat_minor": 0
}
